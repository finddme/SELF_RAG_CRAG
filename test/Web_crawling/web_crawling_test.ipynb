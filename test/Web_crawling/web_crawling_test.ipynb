{
 "cells": [
  {
   "cell_type": "code",
   "execution_count": 1,
   "id": "332c5fad-2585-4ff1-bba2-2d869123c332",
   "metadata": {},
   "outputs": [],
   "source": [
    "from langchain_community.document_loaders import WebBaseLoader"
   ]
  },
  {
   "cell_type": "code",
   "execution_count": 12,
   "id": "dab4cc08-5a1c-4fe0-adbf-86074e34f819",
   "metadata": {
    "scrolled": true
   },
   "outputs": [
    {
     "name": "stdout",
     "output_type": "stream",
     "text": [
      "['https://finddme.github.io/multimodal/2024/05/30/vlm_fusion/', 'https://finddme.github.io/multimodal/2024/05/29/vlm_architecture/', 'https://finddme.github.io/multimodal/2024/05/28/vlm_task/', 'https://finddme.github.io/multimodal/2024/05/11/llava/', 'https://finddme.github.io/multimodal/2024/05/04/Multimodal/', 'https://finddme.github.io/multimodal/2019/10/29/Rearrangecategories8/', 'https://finddme.github.io/natural%20language%20processing/2024/05/01/llama3/', 'https://finddme.github.io/natural%20language%20processing/2024/02/22/chat_history/', 'https://finddme.github.io/natural%20language%20processing/2024/02/21/RAG/', 'https://finddme.github.io/natural%20language%20processing/2024/01/21/lora/', 'https://finddme.github.io/natural%20language%20processing/2023/12/04/Mistral/', 'https://finddme.github.io/natural%20language%20processing/2023/10/10/LLMA2/', 'https://finddme.github.io/natural%20language%20processing/2023/01/13/Ptuning2/', 'https://finddme.github.io/natural%20language%20processing/2022/12/21/Ptuning/', 'https://finddme.github.io/natural%20language%20processing/2022/12/15/PET/', 'https://finddme.github.io/natural%20language%20processing/2022/11/30/LMsummary/', 'https://finddme.github.io/natural%20language%20processing/2022/11/29/DAPT/', 'https://finddme.github.io/natural%20language%20processing/2019/11/22/Bert/', 'https://finddme.github.io/natural%20language%20processing/2019/11/19/Transformer/', 'https://finddme.github.io/natural%20language%20processing/2019/11/12/Attention/', 'https://finddme.github.io/natural%20language%20processing/2019/11/11/Seq2Seq/', 'https://finddme.github.io/natural%20language%20processing/2019/11/07/GloVe/', 'https://finddme.github.io/natural%20language%20processing/2019/11/07/FastText/', 'https://finddme.github.io/natural%20language%20processing/2019/11/06/Skipgram/', 'https://finddme.github.io/natural%20language%20processing/2019/11/06/SentimentalCategorize/', 'https://finddme.github.io/natural%20language%20processing/2019/11/05/CBOW(Continuous-Bag-Of-Words-Model)/', 'https://finddme.github.io/natural%20language%20processing/2019/11/04/NPLM(Neural-Probabilistic-Language-Model)/', 'https://finddme.github.io/natural%20language%20processing/2019/11/03/Word-embedding(Distributed-Representation)/', 'https://finddme.github.io/natural%20language%20processing/2019/11/03/LSA(Latent-Sematic-Analysis)/', 'https://finddme.github.io/natural%20language%20processing/2019/11/01/Word-Vectors/', 'https://finddme.github.io/natural%20language%20processing/2019/10/31/Tokenization/', 'https://finddme.github.io/natural%20language%20processing/2019/10/31/RegularExpression/', 'https://finddme.github.io/natural%20language%20processing/2019/10/31/NLPBasics/', 'https://finddme.github.io/natural%20language%20processing/2019/10/30/NLP/', 'https://finddme.github.io/natural%20language%20processing%20and%20linguistics/2021/04/24/CoreferenceResolution/', 'https://finddme.github.io/natural%20language%20processing%20and%20linguistics/2021/04/07/Warstadt/', 'https://finddme.github.io/natural%20language%20processing%20and%20linguistics/2021/04/04/DaCosta/', 'https://finddme.github.io/natural%20language%20processing%20and%20linguistics/2021/04/01/Jawahar/', 'https://finddme.github.io/natural%20language%20processing%20and%20linguistics/2021/03/30/Johnblog/', 'https://finddme.github.io/natural%20language%20processing%20and%20linguistics/2021/03/07/John2019/', 'https://finddme.github.io/natural%20language%20processing%20and%20linguistics/2021/01/17/Liu2019/', 'https://finddme.github.io/natural%20language%20processing%20and%20linguistics/2021/01/16/TalLinzen2019/', 'https://finddme.github.io/natural%20language%20processing%20and%20linguistics/2019/10/31/Rearrangecategories/', 'https://finddme.github.io/dev%20log/2024/01/02/rag/', 'https://finddme.github.io/dev%20log/2023/03/31/llm_tuning_merge/', 'https://finddme.github.io/dev%20log/2022/09/25/NER/', 'https://finddme.github.io/dev%20log/2022/09/24/SentimentAnalysis/', 'https://finddme.github.io/dev%20log/2019/12/01/Rearrangecategories7/', 'https://finddme.github.io/project%20log/2022/01/01/Project/', 'https://finddme.github.io/project%20log/2019/12/02/Rearrangecategories6/', 'https://finddme.github.io/machine%20learning,%20deep%20learning/2021/08/07/LinearRegression/', 'https://finddme.github.io/machine%20learning,%20deep%20learning/2021/08/03/KMeans/', 'https://finddme.github.io/machine%20learning,%20deep%20learning/2020/10/04/L1L2/', 'https://finddme.github.io/machine%20learning,%20deep%20learning/2020/10/01/TransferLearning/', 'https://finddme.github.io/linguistics%20%7C%20english/2021/04/04/Longdistance/', 'https://finddme.github.io/linguistics%20%7C%20english/2020/11/05/AdjacencyPair/', 'https://finddme.github.io/linguistics%20%7C%20english/2020/11/04/Preference/', 'https://finddme.github.io/linguistics%20%7C%20english/2020/11/03/TurnTaking/', 'https://finddme.github.io/linguistics%20%7C%20english/2020/11/02/Intersubjectivity/', 'https://finddme.github.io/linguistics%20%7C%20english/2020/11/01/Conversation/', 'https://finddme.github.io/linguistics%20%7C%20english/2020/10/02/Rearrangecategories2/', 'https://finddme.github.io/linguistik%20%7C%20germanistik/2020/12/14/Textlinguistik/', 'https://finddme.github.io/linguistik%20%7C%20germanistik/2020/12/13/Pragmatik/', 'https://finddme.github.io/linguistik%20%7C%20germanistik/2020/12/12/SemantikT/', 'https://finddme.github.io/linguistik%20%7C%20germanistik/2020/12/11/SemantikGB/', 'https://finddme.github.io/linguistik%20%7C%20germanistik/2020/12/10/Attribute/', 'https://finddme.github.io/linguistik%20%7C%20germanistik/2020/12/09/ErgaenzungenundAngaben/', 'https://finddme.github.io/linguistik%20%7C%20germanistik/2020/12/08/DependenzundValenz/', 'https://finddme.github.io/linguistik%20%7C%20germanistik/2020/12/07/TraditionelleSyntaxanalyse/', 'https://finddme.github.io/linguistik%20%7C%20germanistik/2020/12/06/Wordbildung/', 'https://finddme.github.io/linguistik%20%7C%20germanistik/2020/12/05/Morphologie/', 'https://finddme.github.io/linguistik%20%7C%20germanistik/2020/12/03/PhonetikundPhonologie/', 'https://finddme.github.io/linguistik%20%7C%20germanistik/2020/12/02/Semiotik/', 'https://finddme.github.io/linguistik%20%7C%20germanistik/2020/12/01/Linguistik/', 'https://finddme.github.io/language/2021/05/16/DeutschWendung2/', 'https://finddme.github.io/language/2021/04/25/DeutschWendung/', 'https://finddme.github.io/language/2021/01/02/DeutschGrammtik/', 'https://finddme.github.io/etc2022/05/22/remember/', 'https://finddme.github.io/etc2022/01/13/Docker/', 'https://finddme.github.io/etc2022/01/12/Linux/', 'https://finddme.github.io/etc2021/07/10/Git3/', 'https://finddme.github.io/etc2021/07/08/Git2/', 'https://finddme.github.io/etc2021/07/05/Git1/', 'https://finddme.github.io/etc2021/01/24/ssss/']\n"
     ]
    }
   ],
   "source": [
    "import requests\n",
    "from bs4 import BeautifulSoup\n",
    "import re  \n",
    "def get_all_categories():\n",
    "    titles1 = [] # 1\n",
    "    req1 = requests.get(\"https://finddme.github.io/\") # 2\n",
    "    html1 = req1.text # 3\n",
    "    soup1 = BeautifulSoup(html1, \"html.parser\") # 4\n",
    "    divs1 = soup1.findAll('div',{\"class\":\"tags-expo-section\"}) # 5\n",
    "    for div1 in divs1: # 6\n",
    "        links1 = div1.findAll('a') # 7\n",
    "        for i in links1: # 8\n",
    "            href1 = i.attrs['href'] # 9\n",
    "            titles1.append(\"https://finddme.github.io\"+href1) # 10\n",
    "    return titles1 # 11\n",
    "\n",
    "result = get_all_categories()\n",
    "\n",
    "print(result)"
   ]
  },
  {
   "cell_type": "code",
   "execution_count": 17,
   "id": "3e9a1cd5-262e-4b18-9ecc-7a9f62e2f7fc",
   "metadata": {},
   "outputs": [],
   "source": [
    "from typing import Union,Optional,Any\n",
    "class CustomWebBaseLoader(WebBaseLoader):\n",
    "    def _scrape(self, url: str, parser: Union[str, None] = None, bs_kwargs: Optional[dict] = None) -> Any:\n",
    "        html_content = super()._scrape(url, parser)\n",
    "        print(html_content)\n",
    "        main_tag = html_content.find('main')  # Find the <main> tag\n",
    "        print(main_tag)\n",
    "        return BeautifulSoup(main_tag.text, \"html.parser\", **(bs_kwargs or {})) # Here we’re overriding the basic scraper to take only the contents from the main tag, with a couple of lines we’re avoiding already a lot of noise that we would otherwise get in the scrape."
   ]
  },
  {
   "cell_type": "code",
   "execution_count": 19,
   "id": "78baf5e9-f6df-4772-a683-2828f6076456",
   "metadata": {
    "scrolled": true
   },
   "outputs": [],
   "source": [
    "loader = WebBaseLoader(result[:10])\n",
    "documents = loader.load()"
   ]
  },
  {
   "cell_type": "code",
   "execution_count": 21,
   "id": "d0ab322c-1021-4c06-a0b5-088d01629f01",
   "metadata": {},
   "outputs": [
    {
     "data": {
      "text/plain": [
       "10"
      ]
     },
     "execution_count": 21,
     "metadata": {},
     "output_type": "execute_result"
    }
   ],
   "source": [
    "len(documents)"
   ]
  },
  {
   "cell_type": "code",
   "execution_count": null,
   "id": "0d0e713f-e496-4097-9c60-27f15a2376b3",
   "metadata": {},
   "outputs": [],
   "source": []
  },
  {
   "cell_type": "code",
   "execution_count": 26,
   "id": "ed6124d4-f498-4e68-a2ef-e9d94876b0ec",
   "metadata": {},
   "outputs": [],
   "source": [
    "loader = WebBaseLoader(\"https://finddme.github.io/natural%20language%20processing/2024/02/21/RAG/\")"
   ]
  },
  {
   "cell_type": "code",
   "execution_count": 27,
   "id": "91587f6f-7749-41c1-a9ea-ff8ea5a478f7",
   "metadata": {},
   "outputs": [],
   "source": [
    "data = loader.load()"
   ]
  },
  {
   "cell_type": "code",
   "execution_count": 31,
   "id": "4cfdf0c0-7212-4ecf-8123-9fb35b642dcf",
   "metadata": {
    "scrolled": true
   },
   "outputs": [
    {
     "data": {
      "text/plain": [
       "[Document(page_content='\\n\\n\\n\\n\\n\\n\\n\\n\\n\\n\\n\\n\\n     \\n      finddme \\n    \\n  \\n\\n\\n\\n\\n\\n\\n\\n\\n\\n\\n\\n\\n\\n\\n\\n\\n\\n\\n\\n\\n\\n\\n\\n\\n\\n\\n\\n\\n\\n\\n\\n\\n\\n. viein\\n\\n\\n Contact  :  \\n        \\n        \\n        \\n        \\n\\n\\n        \\n        |\\n        \\n        \\n        \\n        \\n\\n\\n\\n\\n\\n\\n\\n\\n\\n          HOME\\n        \\n\\n\\n\\n          CATEGORIES\\n        \\n\\n                ⊹  All categories\\n              \\n\\n                ⊹  Portfolio\\n              \\n\\n                ⊹  Multimodal\\n              \\n\\n                ⊹  NLP\\n              \\n\\n                ⊹  NLP and Linguistics\\n              \\n\\n                ⊹  etc.\\n              \\n\\n\\n\\n          ABOUT\\n        \\n\\n\\n\\n\\n    © 2024 viein_serenity_singularity_simplicity_savage. This work is liscensed under CC BY-NC 4.0.\\n    \\n\\n\\n\\n    Powered by jekyll\\n\\n\\n\\n\\n\\n\\n\\n\\n\\n\\n\\n\\n\\n\\n\\n\\n\\n\\n\\n\\n\\n\\n\\n\\n\\n\\nRAG(Retrieval-Augmented Generation)\\n21 Feb 2024\\n   | \\n  \\n    NLP\\n\\n\\n\\n1. What is RAG?\\n2. Naive RAG \\n2.1 Naive RAG의 문제점 \\n1) Query\\n2) Indexing\\n3) Retrieval\\n4) Generation\\n\\n\\n\\n\\n3. Advanced RAG \\n3.1 Enhancing Parsing Techniques\\n3.2 Pre-Retrieval(Query transformations)\\n3.3 Enhanced indexing strategy\\n3.4 Optimizing Embedding Model\\n3.5 Post-Retrieval\\n\\n\\n4. Self-RAG\\n5. Corrective RAG (CRAG)\\nReference\\n\\n1. What is RAG?\\nRAG(Retrieval-Augmented Generation)은 LLM 기반 QA시스템에서 LLM의 hallucination 문제를 완화하고 정보를 효율적이고 정확하게 반환하기 위한 방법론이다. \\nRAG은 Indexing-Retrieval-Generation 단계를 통해 사용자로부터 입력된 질문에 대해 답을 반환한다.\\n1) Indexing\\n\\n문서(PDF, docx 등)를 chunk로 분절\\n\\n\\xa0\\xa0\\xa0\\xa0\\xa0\\xa0\\xa0\\xa0Transformer 계열의 모델은 고정된 입력 길이를 input으로 받는다. 모델의 context window가 커도 문서 전체를 입력으로 넣는 것보다 질문과 의미 유사도가 높은 몇몇 chunk만 입력으로 넣는 것이 정확한 답변을 생성하는 데에 도움이 된다. Chunking 단계에서는 각 chunk들이 의미를 잃지 않는 선에서 일정한 크기로 분절되는 것이 중요하다. 예를 들어 하나의 문장이 chunk size에 걸려 두 부분으로 나뉘어서는 안 된다. 문장이나 단락 단위로 chunk를 나누는 것이 좋다. chunk size는 사용중인 embedding 모델에 따라 결정하는 것이 좋다. Sentence-Transformer의 경우 max token size가 512이고,  OpenAI ada-002는 8191이다.\\n\\n\\n분절된 chunk를 vector로 encode(indexing)\\nembedding model 선정도 매우 중요하다. MTEB Leaderboard를 통해 적절한 Embedding Model을 선정할 수 있다.\\n\\n\\nvector DB에 적재\\n\\n\\n2) Retrieval\\n\\n입력된 질문과 의미 유사도가 높은 Top k의 chunk를 찾는다.\\nIndexing 단계에서 사용된 embedding model과 동일한 모델을 사용하여 사용자 질문을 encoding해야 한다.\\n\\n3) Generation\\n\\n\\n입력된 질문과 retrieved chunk를 LLM에 함께 입력하여 답변을 생성한다.\\n아래와 같이 user_message(사용자 질문)과 context(retrieval 결과)를 함께 LLM에 입력하며, context를 참고하여 user_message에 대한 답변을 생성하라는 prompt를 포함시켜 LLM에 입력한다.\\n prompt=f\"\"\"\\n <|im_start|>system\\n You are a helpful assistant chatbot. \\n Write a response that appropriately completes the request, referring to given Context.\\n When generating responses, it is crucial to adhere to the following conditions.\\n - Do not generate new question. You must respond only to the given question.\\n - You should never repeat the same sentence.\\n - Do not repeat the questions in your response. \\n - You must answer in Korean Language. Do not use any other languages except Korean.\\n Here is context to help:\\n context: {context}<|im_end|>\\n <|im_start|>user\\n {user_message}<|im_end|>\\n <|im_start|>assistant\\n \"\"\"  \\n \\n\\n\\n2. Naive RAG\\n\\xa0\\xa0\\xa0\\xa0Naive RAG(standard RAG)은 가장 기본적인 RAG이다.\\n\\nIllustrated by the author\\n\\n2.1 Naive RAG의 문제점\\n\\xa0\\xa0\\xa0\\xa0Naive RAG의 각 단계마다 문제점들이 존재한다.\\n1) Query\\n\\xa0\\xa0\\xa0\\xa0\\xa0\\xa0\\xa0\\xa0사용자의 질문이 명확하지 않은 경우, similarity search 과정에서 오류가 발생할 수 있다.\\n2) Indexing\\n\\xa0\\xa0\\xa0\\xa0\\xa0\\xa0\\xa0\\xa02.1) Parsing: PDF와 같은 비정형 문서 내 이미지 및 표에 담긴 유용한 정보에 대한 추출이 불완전하다.\\n\\xa0\\xa0\\xa0\\xa0\\xa0\\xa0\\xa0\\xa02.2) Chunking: 파일 특성을 고려하지 않고 일률적인 크기로 chunking함으로써 의미상 포함되어야 할 정보가 고정된 size 문제로 잘려 각 chunk에 불완전한 정보가 담겨있을 가능성이 있다.\\n\\xa0\\xa0\\xa0\\xa0\\xa0\\xa0\\xa0\\xa02.3) Indexing: vector db의 indexing 구조가 파일 유형마다 최적화되어 있지 않아 retreival 과정에 부정적인 영향을 미칠 수 있다.\\n\\xa0\\xa0\\xa0\\xa0\\xa0\\xa0\\xa0\\xa02.4) Embedding Model: 임베딩 모델의 semantic representation 성능이 좋지 않을 경우 retreival 과정에 부정적인 영향을 미칠 수 있다.\\n3) Retrieval\\n\\xa0\\xa0\\xa0\\xa0\\xa0\\xa0\\xa0\\xa03.1) 검색된 chunk들과 질문의 관련성이 낮을 가능성이 있다.\\n\\xa0\\xa0\\xa0\\xa0\\xa0\\xa0\\xa0\\xa03.2) 여러 검색 알고리즘을 종합적으로 사용할 수 없어 검색 기능이 제한적이다.\\n\\xa0\\xa0\\xa0\\xa0\\xa0\\xa0\\xa0\\xa03.3) 검색된 chunk들에 유사한 정보가 중첩되는 경우, LLM이 생성 시 참고할 정보가 제한적이다.\\n4) Generation\\n\\xa0\\xa0\\xa0\\xa0\\xa0\\xa0\\xa0\\xa01) 생성모델 특성 상 동일한 질문에 대해 일관적이지 않은 답변이 생성될 수 있다.\\n\\xa0\\xa0\\xa0\\xa0\\xa0\\xa0\\xa0\\xa02) 생성 모델의 성능에 따라 새로운 답변을 생성하지 않고 검색된 chunk에 과도하게 의존하는 경우도 있다. 이 경우 chunk를 그대로 반환하기도 한다.\\n\\xa0\\xa0\\xa0\\xa0\\xa0\\xa0\\xa0\\xa03) LLM의 문제점을 완화하기 위해 RAG을 적용했지만 여전히 부정확하거나 관련 없는 답변을 생성할 가능성이 있다.\\n3. Advanced RAG\\n\\xa0\\xa0\\xa0\\xa0Advanced RAG은 Naive RAG의 문제점을 완화하기 위해 Indexing 과정 혹은 Retrieval 앞뒤에 검색 정확도를 높이기 위한 과정이 추가된 RAG이다. 아래 그림에서 파란색 부분이 이에 해당한다.\\n\\nIllustrated by the author\\n\\n3.1 Enhancing Parsing Techniques\\n\\nIllustrated by the author\\n\\n\\xa0\\xa0\\xa0\\xa0RAG은 문서를 검색한 후 검색된 문서를 기반으로 답변을 반환하는 구조로 작동되기 때문에 비정형 데이터로부터 정보를 정확히 추출하는 것이 중요하다. RAG을 위한 비정형 데이터의 종류는 매우 다양하지만 그 중 PDF parsing이 매우 까다롭다. PDF parsing 방법은 크게 세 가지이다.\\n\\xa0\\xa0\\xa0\\xa01) Rule-base parsing\\n\\xa0\\xa0\\xa0\\xa0\\xa0\\xa0\\xa0\\xa0pypdf, pdfplumber와 같은 규칙 기반 parser를 사용하는 방법이다. 이와 같은 라이브러리는 정해진 규칙에 따라 pdf에서 텍스트를 추출하기 때문에 다양한 형식의 PDF를 다루기에는 범용성이 떨어지는 문제가 있다.\\n\\xa0\\xa0\\xa0\\xa02) deep learning model base parsing\\n\\xa0\\xa0\\xa0\\xa0\\xa0\\xa0\\xa0\\xa0object detection과 OCR 기술을 결합한 deep learning 모델을 기반으로 PDF에서 정보를 추출하는 방법이다. object detection을 통해 문서의 레이아웃을 식별하거나 표 내부 구조를 파악하여 정보를 보다 정확하게 추출할 수 있다. 하지만 모델을 사용하는 만큼 pasing에 소요되는 시간이 rule-base보다 길다는 것이 단점이다.\\n\\xa0\\xa0\\xa0\\xa03) multimodal large model base parsing\\n\\xa0\\xa0\\xa0\\xa0\\xa0\\xa0\\xa0\\xa0multimodal LLM을 사용하여 PDF를 parsing하는 방법이다.\\n3.2 Pre-Retrieval(Query transformations)\\n\\nIllustrated by the author\\n\\n\\xa0\\xa0\\xa0\\xa0Pre-Retrieval 단계에서는 Retrieval 시 질문과 관련있는 chunk를 더 잘 검색하기 위해 Query를 조작한다.\\n\\xa0\\xa0\\xa0\\xa01) Query reformulation\\n\\xa0\\xa0\\xa0\\xa0\\xa0\\xa0\\xa0\\xa0사용자의 의도와 더 가깝게 질문을 재작성하는 방법.\\n\\xa0\\xa0\\xa0\\xa02) Query expansion\\n\\xa0\\xa0\\xa0\\xa0\\xa0\\xa0\\xa0\\xa0동의어나 관련 표현들을 통해 질문을 확장함으로써 관련있는 chunk 검색을 돕는 방법\\n\\xa0\\xa0\\xa0\\xa03) Query Routing\\n\\xa0\\xa0\\xa0\\xa0\\xa0\\xa0\\xa0\\xa0Query를 LLM에 효과적으로 입력하기 위해 Query부터 LLM 입력까지의 경로를 지정하는 것이다.\\n\\xa0\\xa0\\xa0\\xa0\\xa0\\xa0\\xa0\\xa0예를 들어 인덱스에 계층이 있는 경우, 각 chunk에 대해 요약 등의 metadata가 있는 경우 등 query가 LLM까지 도달하기까지 다양한 경로가 존재할 때 Query router를 통해 최적의 옵션을 타고 LLM에 도달하게 된다.\\n\\xa0\\xa0\\xa0\\xa05) Query normalization\\n\\xa0\\xa0\\xa0\\xa0\\xa0\\xa0\\xa0\\xa0철자 수정, 용어 차이 완화, 특수문자 및 공백 제거 불용어 제거 등 query 정규화 방법\\n\\xa0\\xa0\\xa0\\xa06) Multi/Sub query transformation\\n\\xa0\\xa0\\xa0\\xa0\\xa0\\xa0\\xa0\\xa0복잡한 질문을 LLM을 통해 단순한 여러 질문으로 수정한 후 Multi Query Retrieval을 수행하는 방법.\\n\\xa0\\xa0\\xa0\\xa0\\xa0\\xa0\\xa0\\xa0예를 들어 “John과 Mike 중 이번 중간 평가 평균 점수를 알려줘”\\n\\xa0\\xa0\\xa0\\xa0\\xa0\\xa0\\xa0\\xa0-> sub query 1) John의 중간 평가 평균 점수를 알려줘.\\n\\xa0\\xa0\\xa0\\xa0\\xa0\\xa0\\xa0\\xa0   sub query 2) Mike의 중간 평가 평균 점수를 알려줘.\\n\\xa0\\xa0\\xa0\\xa0\\xa0\\xa0\\xa0\\xa0하지만 이 방법은 두 sub query에 대해 검색된 chunk가 상이하여 서로 다른 문서로부터 답을 찾을 가능성이 있다는 문제가 있다.\\n\\xa0\\xa0\\xa0\\xa07) Rewrite-Retrieve-Read\\n  \\xa0\\xa0\\xa0\\xa0\\xa0\\xa0\\xa0\\xa0 Query Rewriting for Retrieval-Augmented Large Language Models 논문에서 제안된 방법으로, 사용자의 질문이 LLM 검색에 최적화되지 않은 경우가 많아 LLM을 통해 질문을 재 작성하는 방법을 소개한다.\\n\\xa0\\xa0\\xa0\\xa08) Step-Back Prompting\\n\\xa0\\xa0\\xa0\\xa0\\xa0\\xa0\\xa0\\xa0prompting을 통해 LLM이 질문의 핵심을 파악하도록하는 것이다. 질문이 너무 구체적인 경우, LLM은 특정 세부 사항에 꽂혀서 제대로된 답을 하지 못한다. 예를 들어 “2023년 4월부터 2024 5월까지 나온 LLM 관련 논문은 몇 개야?”라는 질문은 너무 세세하게 명시된 기간으로 인해 LLM이 적절한 답을 반환하지 못할 가능성이 높다. 이 예시의 경우, “LLM 관련 논문 수를 연도별로 알려줘”라는 query로 묻는 것이 더 효과적이다.\\n\\xa0\\xa0\\xa0\\xa0\\xa0\\xa0\\xa0\\xa0 Step-Back Prompting은 두 단계를 통해 진행된다.\\n\\xa0\\xa0\\xa0\\xa0\\xa0\\xa0\\xa0\\xa01. 추상화 : LLM이 query에 대한 high-level concept 혹은 기본 개념에 관한 광범위한 질문을 만들도록 prompting한다.\\n\\xa0\\xa0\\xa0\\xa0\\xa0\\xa0\\xa0\\xa02. 추론 : 추상화된 질문에 대한 답을 추론한다. 이를 abstract reasoning이라고 부른다.\\n3.3 Enhanced indexing strategy\\n\\nIllustrated by the author\\n\\n\\xa0\\xa0\\xa0\\xa01) Hierarchical index retrieval\\n\\xa0\\xa0\\xa0\\xa0\\xa0\\xa0\\xa0\\xa0검색 데이터(문서)가 많은 경우, 검색 효율을 높이기 위해 문서 요약 index와 문서 chunk index 단계를 만들어 우선 요약을 통해 관련 문서를 filtering한 후 해당하는 문서 chunk 중 질문과 의미 유사도가 높은 chunk들을 뽑는 방법이다.\\n\\xa0\\xa0\\xa0\\xa02) Hypothetical Questions\\n\\xa0\\xa0\\xa0\\xa0\\xa0\\xa0\\xa0\\xa0LLM을 통해 각 chunk들에 대한 질문을 생성하여 이와 같은 가상 질문을 embedding하여 chunk와 함께 vector DB에 저장하는 것이다. 이와 같은 방법은 질문과 가상 질문 간의 의미적 유사도가 질문과 chunk 사이의 유사도보다 높기 때문에 검색 품질을 향상시킬 수 있다.\\n\\xa0\\xa0\\xa0\\xa03) HyDE(Hypothetical Document Embeddings)\\n\\xa0\\xa0\\xa0\\xa0\\xa0\\xa0\\xa0\\xa0HyDE는 Hypothetical Questions와 반대의 접근 방식이다. LLM에 사용자의 질문을 입력하여 가상 응답을 생성하도록 한 후 생성된 가상 응답과 chunk 사이의 유사도를 통해 검색을 수행하는 방법이다. (비추다.)\\n\\xa0\\xa0\\xa0\\xa04) Context enrichment\\n\\xa0\\xa0\\xa0\\xa0\\xa0\\xa0\\xa0\\xa0Context enrichment는 검색된 chunk에 대해 추가적으로 context를 강화하는 방법이. Context enrichment에는 크게 두 가지 방식이 있다.\\n\\xa0\\xa0\\xa0\\xa0\\xa0\\xa0\\xa0\\xa04.1) Sentence Window Retrieval\\n\\xa0\\xa0\\xa0\\xa0\\xa0\\xa0\\xa0\\xa0\\xa0\\xa0\\xa0\\xa0chunk를 문장 단위로 만들어 embedding한 후 query와 문장 사이의 유사도를 검색한 후 해당 문장의 전 후 k개 문장으로 context window를 확장하여 LLM에 입력하는 방법.\\n\\xa0\\xa0\\xa0\\xa0\\xa0\\xa0\\xa0\\xa04.2) Auto-merging Retriever (Parent Document Retriever)\\n\\xa0\\xa0\\xa0\\xa0\\xa0\\xa0\\xa0\\xa0\\xa0\\xa0\\xa0\\xa0우선 작은 size의 chunk를 검색한 후 검색된 상위 k개의 chunk 중 n개 이상의 조각이 동일한 상위 node(larger chunk)와 연결된 경우 해당 node를 LLM이 참고할 context로 입력한다.\\n3.4 Optimizing Embedding Model\\n\\nIllustrated by the author\\n\\n\\xa0\\xa0\\xa0\\xa0retrieval 수행 시 가장 관련성 높은 chunk를 추출하는 것이 중요하다. 일반적으로 retrieval은 query와 indexing된 chunk들 간의 벡터 검색을 통해 산출된 의미 유사도를 기반으로 수행된다. 이에 따라 embedding model이 문장 의미 정보를 잘 표현하는 것이 중요하다. Embedding model을 강화하는 방법으로 아래 두 가지가 잘 알려져 있다.\\n\\xa0\\xa0\\xa0\\xa01) Fine-tuning embedding model\\n\\xa0\\xa0\\xa0\\xa0\\xa0\\xa0\\xa0\\xa0Embedding model을 domain-specific context에 맞게 fine-tuning하는 방법이다.\\n\\xa0\\xa0\\xa0\\xa02) Dynamic Embedding\\n\\xa0\\xa0\\xa0\\xa0\\xa0\\xa0\\xa0\\xa0각 단어에 하나의 벡터만 사용하는 static embedding(정적 임베딩)과 달리 model이 context에 맞게 vector를 embedding하는 방법으로, OpenAI의 embeddings-ada-02가 대표적인 동적 임베딩 모델이다.\\n3.5 Post-Retrieval\\n\\nIllustrated by the author\\n\\n\\xa0\\xa0\\xa0\\xa0Post-Retrieval 단계에서는 검색된 문서들을 정제하여 답변 생성 품질을 향상시키기 위한 처리들을 한다.\\n\\xa0\\xa0\\xa0\\xa01) Fusion retrieval or hybrid search\\n\\xa0\\xa0\\xa0\\xa0\\xa0\\xa0\\xa0\\xa0Fusion retrieval 혹은 hybrid search는 Query와 chunk에 대한 의미 유사도, 키워드 매칭을 모두 고려하기 위해 tf-idf 혹은 BM25와 같은 keyword-based old school search와 최근에 많이 사용되는 semantic/vectore search 를 결합하는 방법이다.\\n\\xa0\\xa0\\xa0\\xa0\\xa0\\xa0\\xa0\\xa0이 방법론에서 중요한 것은 두 검색 결과를 적절히 결합하는 것이다. 검색 결과 결합에는 일반적으로 Reciprocal Rank Fusion algorithm이 사용된다.\\n\\xa0\\xa0\\xa0\\xa02) Re-Ranking\\n\\xa0\\xa0\\xa0\\xa0\\xa0\\xa0\\xa0\\xa0검색 결과에 대해 유사도 점수 등을 기준으로 chunk를 정렬하여 query와 관련성 높은 문서를 강조하기 위한 처리이다. Re-Ranking model은 query와 context를 input으로 받아 유사도를 측정한다.\\n\\xa0\\xa0\\xa0\\xa03) Prompt compression\\n\\xa0\\xa0\\xa0\\xa0\\xa0\\xa0\\xa0\\xa0관련 없는 context는 제거하고 중요한 context는 강조하여 전체 prompt 길이를 줄인다. 이 과정을 통해 LLM을 중요한 정보만 입력 받아 정확한 답변을 생성할 가능성이 높아지고, LLM의 입력이 줄어들어 추론 속도가 감소할 수 있다.\\n\\xa0\\xa0\\xa0\\xa04) Filtering\\n\\xa0\\xa0\\xa0\\xa0\\xa0\\xa0\\xa0\\xa0키워드나 metadata를 기반으로 검색된 chunk를 filtering하는 단계로, 관련 없는 문서가 검색되었을 때 해당 문서를 제거하기 위한 과정이다.\\n4. Self-RAG\\n일반적인 RAG은 입력된 모든 query에 대해 vector DB에 저장된 전체 문서와 유사도를 구하여 관련 chunk를 찾아 답을 생성하는 방식으로 작동된다. Self-RAG의 경우, 아래 그림과 같이 익숙한 주제에 대해서는 LLM이 바로 답변하도록 하고, 그렇지 않은 주제에 대해서는 RAG을 수행하는 방식으로 작동된다.\\n\\nPinecone(https://www.pinecone.io/learn/advanced-rag-techniques/)\\n\\nreward 모델을 align하는 것처럼 reflection token을 예측하는 model을 학습시켜 익숙한 주제인지 아닌지 분류한다. 해당 모델의 데이터는 특정 도메인에 대해 fine-tuning된 모델이든 아니면 그냥 사전학습모델이든 frozen LLM 모델이 반환하는 답변과 질문을 openai gpt-4에 입력하여 답변이 질문과 관련있는지, 어느정도 관련이 있는지, 얼마나 supported한지, retreival이 필요해 보이는지 등의 label을 수집한다. 자세한 데이터 수집 방법은 [https://github.com/AkariAsai/self-rag/tree/main/data_creation/critic/gpt4_reward(]https://github.com/AkariAsai/self-rag/tree/main/data_creation/critic/gpt4_reward) 여기에서 확인 가능하다.\\n위 과정을 통해 수집된 데이터로 reflection token 예측 모델을 학습시켜 RAG에 사용한다.\\n5. Corrective RAG (CRAG)\\nCRAG은 일반적인 RAG과 동일하게 입력된 모든 query에 대해 vector DB에 저장된 전체 문서와 유사도를 구하여 관련 chunk를 찾는다. chunk를 찾은 이후 답을 생성하기 전, 검색된 정보가 올바른지, 아닌지 혹은 애매한지 분류하고 분류 유형에 따라 답 생성 방식을 달리한다. Correct, Incorrect, Ambiguout 분류 모델은 T5-large를 학습시킨 모델을 사용한다.\\n\\nPinecone(https://www.pinecone.io/learn/advanced-rag-techniques/)\\n\\n각 분류 결과에 따른 답 생성 방식은 다음과 같다:\\n1) Correct: 검색된 문서에 query가 요구하는 정보가 포함되어 있기 때문에 해당 문서에 대한 filtering 작업만 거치고 RAG을 수행한다. filtering은 문서를 보다 작은 단위로 자르고 다시 Retrieval evaluate model(T5-large based)로 분류 한 후 0.5보다 낮은 부분은 제거, 나머지는 사용하는 방식으로 수행된다.\\n2) Incorrect: 검색된 문서에 query가 요구하는 정보가 없기 때문에 Web 검ㅅ개을 통해 관련 문서를 가져온다.\\n3) Ambiguout: 검색된 문서에 query가 요구하는 정보가 충분하지 않은 경우로, “Incorrect”의 경우와 마찬가지로 추가 정보도 찾고 “Correct”에서 수행한 filtering 작업을 거친 후 RAG을 수행한다.\\nReference\\n\\nRetrieval-Augmented Generation for Large Language Models: A Survey\\n\\n\\nhttps://medium.com/@vipra_singh/building-llm-applications-advanced-rag-part-10-ec0fe735aeb1#979b\\n\\n\\nhttps://pub.towardsai.net/advanced-rag-techniques-an-illustrated-overview-04d193d8fec6\\n\\n\\nhttps://ai.plainenglish.io/advanced-rag-part-01-problems-of-naive-rag-7e5f8ebb68d5\\n\\n\\nhttps://www.pinecone.io/learn/advanced-rag-techniques/\\n\\n\\nSELF-RAG: LEARNING TO RETRIEVE, GENERATE, AND CRITIQUE THROUGH SELF-REFLECTION\\n\\n\\nhttps://github.com/AkariAsai/self-rag/tree/main\\n\\n\\n\\n\\n\\n\\n\\n\\n\\n\\n\\n\\n\\n\\n\\n×\\nSearch\\n\\n\\n\\n\\n\\n\\n\\n\\n\\n\\n\\n\\n\\n\\n\\n\\n\\n\\n\\n\\n\\n\\n\\n\\n', metadata={'source': 'https://finddme.github.io/natural%20language%20processing/2024/02/21/RAG/', 'title': '\\n     \\n      finddme \\n    \\n  ', 'language': 'en-us'})]"
      ]
     },
     "execution_count": 31,
     "metadata": {},
     "output_type": "execute_result"
    }
   ],
   "source": [
    "data"
   ]
  },
  {
   "cell_type": "code",
   "execution_count": 96,
   "id": "0768ba64-339a-4e18-8b06-f3603c0b0dd7",
   "metadata": {
    "scrolled": true
   },
   "outputs": [],
   "source": [
    "rogod=re.compile(\"\\n{3,}\")\n",
    "text=data[0].page_content\n",
    "find_res=rogod.finditer(data[0].page_content)\n",
    "\n",
    "text=re.sub(r'\\n+', '\\n', text)\n",
    "# text=re.sub(r' +', ' ', text)"
   ]
  },
  {
   "cell_type": "code",
   "execution_count": 97,
   "id": "399777d5-1b61-41d0-a9ef-4f0f0e7030ed",
   "metadata": {
    "scrolled": true
   },
   "outputs": [
    {
     "data": {
      "text/plain": [
       "'\\n     \\n      finddme \\n    \\n  \\n. viein\\n Contact  :  \\n        \\n        \\n        \\n        \\n        \\n        |\\n        \\n        \\n        \\n        \\n          HOME\\n        \\n          CATEGORIES\\n        \\n                ⊹  All categories\\n              \\n                ⊹  Portfolio\\n              \\n                ⊹  Multimodal\\n              \\n                ⊹  NLP\\n              \\n                ⊹  NLP and Linguistics\\n              \\n                ⊹  etc.\\n              \\n          ABOUT\\n        \\n    © 2024 viein_serenity_singularity_simplicity_savage. This work is liscensed under CC BY-NC 4.0.\\n    \\n    Powered by jekyll\\nRAG(Retrieval-Augmented Generation)\\n21 Feb 2024\\n   | \\n  \\n    NLP\\n1. What is RAG?\\n2. Naive RAG \\n2.1 Naive RAG의 문제점 \\n1) Query\\n2) Indexing\\n3) Retrieval\\n4) Generation\\n3. Advanced RAG \\n3.1 Enhancing Parsing Techniques\\n3.2 Pre-Retrieval(Query transformations)\\n3.3 Enhanced indexing strategy\\n3.4 Optimizing Embedding Model\\n3.5 Post-Retrieval\\n4. Self-RAG\\n5. Corrective RAG (CRAG)\\nReference\\n1. What is RAG?\\nRAG(Retrieval-Augmented Generation)은 LLM 기반 QA시스템에서 LLM의 hallucination 문제를 완화하고 정보를 효율적이고 정확하게 반환하기 위한 방법론이다. \\nRAG은 Indexing-Retrieval-Generation 단계를 통해 사용자로부터 입력된 질문에 대해 답을 반환한다.\\n1) Indexing\\n문서(PDF, docx 등)를 chunk로 분절\\n\\xa0\\xa0\\xa0\\xa0\\xa0\\xa0\\xa0\\xa0Transformer 계열의 모델은 고정된 입력 길이를 input으로 받는다. 모델의 context window가 커도 문서 전체를 입력으로 넣는 것보다 질문과 의미 유사도가 높은 몇몇 chunk만 입력으로 넣는 것이 정확한 답변을 생성하는 데에 도움이 된다. Chunking 단계에서는 각 chunk들이 의미를 잃지 않는 선에서 일정한 크기로 분절되는 것이 중요하다. 예를 들어 하나의 문장이 chunk size에 걸려 두 부분으로 나뉘어서는 안 된다. 문장이나 단락 단위로 chunk를 나누는 것이 좋다. chunk size는 사용중인 embedding 모델에 따라 결정하는 것이 좋다. Sentence-Transformer의 경우 max token size가 512이고,  OpenAI ada-002는 8191이다.\\n분절된 chunk를 vector로 encode(indexing)\\nembedding model 선정도 매우 중요하다. MTEB Leaderboard를 통해 적절한 Embedding Model을 선정할 수 있다.\\nvector DB에 적재\\n2) Retrieval\\n입력된 질문과 의미 유사도가 높은 Top k의 chunk를 찾는다.\\nIndexing 단계에서 사용된 embedding model과 동일한 모델을 사용하여 사용자 질문을 encoding해야 한다.\\n3) Generation\\n입력된 질문과 retrieved chunk를 LLM에 함께 입력하여 답변을 생성한다.\\n아래와 같이 user_message(사용자 질문)과 context(retrieval 결과)를 함께 LLM에 입력하며, context를 참고하여 user_message에 대한 답변을 생성하라는 prompt를 포함시켜 LLM에 입력한다.\\n prompt=f\"\"\"\\n <|im_start|>system\\n You are a helpful assistant chatbot. \\n Write a response that appropriately completes the request, referring to given Context.\\n When generating responses, it is crucial to adhere to the following conditions.\\n - Do not generate new question. You must respond only to the given question.\\n - You should never repeat the same sentence.\\n - Do not repeat the questions in your response. \\n - You must answer in Korean Language. Do not use any other languages except Korean.\\n Here is context to help:\\n context: {context}<|im_end|>\\n <|im_start|>user\\n {user_message}<|im_end|>\\n <|im_start|>assistant\\n \"\"\"  \\n \\n2. Naive RAG\\n\\xa0\\xa0\\xa0\\xa0Naive RAG(standard RAG)은 가장 기본적인 RAG이다.\\nIllustrated by the author\\n2.1 Naive RAG의 문제점\\n\\xa0\\xa0\\xa0\\xa0Naive RAG의 각 단계마다 문제점들이 존재한다.\\n1) Query\\n\\xa0\\xa0\\xa0\\xa0\\xa0\\xa0\\xa0\\xa0사용자의 질문이 명확하지 않은 경우, similarity search 과정에서 오류가 발생할 수 있다.\\n2) Indexing\\n\\xa0\\xa0\\xa0\\xa0\\xa0\\xa0\\xa0\\xa02.1) Parsing: PDF와 같은 비정형 문서 내 이미지 및 표에 담긴 유용한 정보에 대한 추출이 불완전하다.\\n\\xa0\\xa0\\xa0\\xa0\\xa0\\xa0\\xa0\\xa02.2) Chunking: 파일 특성을 고려하지 않고 일률적인 크기로 chunking함으로써 의미상 포함되어야 할 정보가 고정된 size 문제로 잘려 각 chunk에 불완전한 정보가 담겨있을 가능성이 있다.\\n\\xa0\\xa0\\xa0\\xa0\\xa0\\xa0\\xa0\\xa02.3) Indexing: vector db의 indexing 구조가 파일 유형마다 최적화되어 있지 않아 retreival 과정에 부정적인 영향을 미칠 수 있다.\\n\\xa0\\xa0\\xa0\\xa0\\xa0\\xa0\\xa0\\xa02.4) Embedding Model: 임베딩 모델의 semantic representation 성능이 좋지 않을 경우 retreival 과정에 부정적인 영향을 미칠 수 있다.\\n3) Retrieval\\n\\xa0\\xa0\\xa0\\xa0\\xa0\\xa0\\xa0\\xa03.1) 검색된 chunk들과 질문의 관련성이 낮을 가능성이 있다.\\n\\xa0\\xa0\\xa0\\xa0\\xa0\\xa0\\xa0\\xa03.2) 여러 검색 알고리즘을 종합적으로 사용할 수 없어 검색 기능이 제한적이다.\\n\\xa0\\xa0\\xa0\\xa0\\xa0\\xa0\\xa0\\xa03.3) 검색된 chunk들에 유사한 정보가 중첩되는 경우, LLM이 생성 시 참고할 정보가 제한적이다.\\n4) Generation\\n\\xa0\\xa0\\xa0\\xa0\\xa0\\xa0\\xa0\\xa01) 생성모델 특성 상 동일한 질문에 대해 일관적이지 않은 답변이 생성될 수 있다.\\n\\xa0\\xa0\\xa0\\xa0\\xa0\\xa0\\xa0\\xa02) 생성 모델의 성능에 따라 새로운 답변을 생성하지 않고 검색된 chunk에 과도하게 의존하는 경우도 있다. 이 경우 chunk를 그대로 반환하기도 한다.\\n\\xa0\\xa0\\xa0\\xa0\\xa0\\xa0\\xa0\\xa03) LLM의 문제점을 완화하기 위해 RAG을 적용했지만 여전히 부정확하거나 관련 없는 답변을 생성할 가능성이 있다.\\n3. Advanced RAG\\n\\xa0\\xa0\\xa0\\xa0Advanced RAG은 Naive RAG의 문제점을 완화하기 위해 Indexing 과정 혹은 Retrieval 앞뒤에 검색 정확도를 높이기 위한 과정이 추가된 RAG이다. 아래 그림에서 파란색 부분이 이에 해당한다.\\nIllustrated by the author\\n3.1 Enhancing Parsing Techniques\\nIllustrated by the author\\n\\xa0\\xa0\\xa0\\xa0RAG은 문서를 검색한 후 검색된 문서를 기반으로 답변을 반환하는 구조로 작동되기 때문에 비정형 데이터로부터 정보를 정확히 추출하는 것이 중요하다. RAG을 위한 비정형 데이터의 종류는 매우 다양하지만 그 중 PDF parsing이 매우 까다롭다. PDF parsing 방법은 크게 세 가지이다.\\n\\xa0\\xa0\\xa0\\xa01) Rule-base parsing\\n\\xa0\\xa0\\xa0\\xa0\\xa0\\xa0\\xa0\\xa0pypdf, pdfplumber와 같은 규칙 기반 parser를 사용하는 방법이다. 이와 같은 라이브러리는 정해진 규칙에 따라 pdf에서 텍스트를 추출하기 때문에 다양한 형식의 PDF를 다루기에는 범용성이 떨어지는 문제가 있다.\\n\\xa0\\xa0\\xa0\\xa02) deep learning model base parsing\\n\\xa0\\xa0\\xa0\\xa0\\xa0\\xa0\\xa0\\xa0object detection과 OCR 기술을 결합한 deep learning 모델을 기반으로 PDF에서 정보를 추출하는 방법이다. object detection을 통해 문서의 레이아웃을 식별하거나 표 내부 구조를 파악하여 정보를 보다 정확하게 추출할 수 있다. 하지만 모델을 사용하는 만큼 pasing에 소요되는 시간이 rule-base보다 길다는 것이 단점이다.\\n\\xa0\\xa0\\xa0\\xa03) multimodal large model base parsing\\n\\xa0\\xa0\\xa0\\xa0\\xa0\\xa0\\xa0\\xa0multimodal LLM을 사용하여 PDF를 parsing하는 방법이다.\\n3.2 Pre-Retrieval(Query transformations)\\nIllustrated by the author\\n\\xa0\\xa0\\xa0\\xa0Pre-Retrieval 단계에서는 Retrieval 시 질문과 관련있는 chunk를 더 잘 검색하기 위해 Query를 조작한다.\\n\\xa0\\xa0\\xa0\\xa01) Query reformulation\\n\\xa0\\xa0\\xa0\\xa0\\xa0\\xa0\\xa0\\xa0사용자의 의도와 더 가깝게 질문을 재작성하는 방법.\\n\\xa0\\xa0\\xa0\\xa02) Query expansion\\n\\xa0\\xa0\\xa0\\xa0\\xa0\\xa0\\xa0\\xa0동의어나 관련 표현들을 통해 질문을 확장함으로써 관련있는 chunk 검색을 돕는 방법\\n\\xa0\\xa0\\xa0\\xa03) Query Routing\\n\\xa0\\xa0\\xa0\\xa0\\xa0\\xa0\\xa0\\xa0Query를 LLM에 효과적으로 입력하기 위해 Query부터 LLM 입력까지의 경로를 지정하는 것이다.\\n\\xa0\\xa0\\xa0\\xa0\\xa0\\xa0\\xa0\\xa0예를 들어 인덱스에 계층이 있는 경우, 각 chunk에 대해 요약 등의 metadata가 있는 경우 등 query가 LLM까지 도달하기까지 다양한 경로가 존재할 때 Query router를 통해 최적의 옵션을 타고 LLM에 도달하게 된다.\\n\\xa0\\xa0\\xa0\\xa05) Query normalization\\n\\xa0\\xa0\\xa0\\xa0\\xa0\\xa0\\xa0\\xa0철자 수정, 용어 차이 완화, 특수문자 및 공백 제거 불용어 제거 등 query 정규화 방법\\n\\xa0\\xa0\\xa0\\xa06) Multi/Sub query transformation\\n\\xa0\\xa0\\xa0\\xa0\\xa0\\xa0\\xa0\\xa0복잡한 질문을 LLM을 통해 단순한 여러 질문으로 수정한 후 Multi Query Retrieval을 수행하는 방법.\\n\\xa0\\xa0\\xa0\\xa0\\xa0\\xa0\\xa0\\xa0예를 들어 “John과 Mike 중 이번 중간 평가 평균 점수를 알려줘”\\n\\xa0\\xa0\\xa0\\xa0\\xa0\\xa0\\xa0\\xa0-> sub query 1) John의 중간 평가 평균 점수를 알려줘.\\n\\xa0\\xa0\\xa0\\xa0\\xa0\\xa0\\xa0\\xa0   sub query 2) Mike의 중간 평가 평균 점수를 알려줘.\\n\\xa0\\xa0\\xa0\\xa0\\xa0\\xa0\\xa0\\xa0하지만 이 방법은 두 sub query에 대해 검색된 chunk가 상이하여 서로 다른 문서로부터 답을 찾을 가능성이 있다는 문제가 있다.\\n\\xa0\\xa0\\xa0\\xa07) Rewrite-Retrieve-Read\\n  \\xa0\\xa0\\xa0\\xa0\\xa0\\xa0\\xa0\\xa0 Query Rewriting for Retrieval-Augmented Large Language Models 논문에서 제안된 방법으로, 사용자의 질문이 LLM 검색에 최적화되지 않은 경우가 많아 LLM을 통해 질문을 재 작성하는 방법을 소개한다.\\n\\xa0\\xa0\\xa0\\xa08) Step-Back Prompting\\n\\xa0\\xa0\\xa0\\xa0\\xa0\\xa0\\xa0\\xa0prompting을 통해 LLM이 질문의 핵심을 파악하도록하는 것이다. 질문이 너무 구체적인 경우, LLM은 특정 세부 사항에 꽂혀서 제대로된 답을 하지 못한다. 예를 들어 “2023년 4월부터 2024 5월까지 나온 LLM 관련 논문은 몇 개야?”라는 질문은 너무 세세하게 명시된 기간으로 인해 LLM이 적절한 답을 반환하지 못할 가능성이 높다. 이 예시의 경우, “LLM 관련 논문 수를 연도별로 알려줘”라는 query로 묻는 것이 더 효과적이다.\\n\\xa0\\xa0\\xa0\\xa0\\xa0\\xa0\\xa0\\xa0 Step-Back Prompting은 두 단계를 통해 진행된다.\\n\\xa0\\xa0\\xa0\\xa0\\xa0\\xa0\\xa0\\xa01. 추상화 : LLM이 query에 대한 high-level concept 혹은 기본 개념에 관한 광범위한 질문을 만들도록 prompting한다.\\n\\xa0\\xa0\\xa0\\xa0\\xa0\\xa0\\xa0\\xa02. 추론 : 추상화된 질문에 대한 답을 추론한다. 이를 abstract reasoning이라고 부른다.\\n3.3 Enhanced indexing strategy\\nIllustrated by the author\\n\\xa0\\xa0\\xa0\\xa01) Hierarchical index retrieval\\n\\xa0\\xa0\\xa0\\xa0\\xa0\\xa0\\xa0\\xa0검색 데이터(문서)가 많은 경우, 검색 효율을 높이기 위해 문서 요약 index와 문서 chunk index 단계를 만들어 우선 요약을 통해 관련 문서를 filtering한 후 해당하는 문서 chunk 중 질문과 의미 유사도가 높은 chunk들을 뽑는 방법이다.\\n\\xa0\\xa0\\xa0\\xa02) Hypothetical Questions\\n\\xa0\\xa0\\xa0\\xa0\\xa0\\xa0\\xa0\\xa0LLM을 통해 각 chunk들에 대한 질문을 생성하여 이와 같은 가상 질문을 embedding하여 chunk와 함께 vector DB에 저장하는 것이다. 이와 같은 방법은 질문과 가상 질문 간의 의미적 유사도가 질문과 chunk 사이의 유사도보다 높기 때문에 검색 품질을 향상시킬 수 있다.\\n\\xa0\\xa0\\xa0\\xa03) HyDE(Hypothetical Document Embeddings)\\n\\xa0\\xa0\\xa0\\xa0\\xa0\\xa0\\xa0\\xa0HyDE는 Hypothetical Questions와 반대의 접근 방식이다. LLM에 사용자의 질문을 입력하여 가상 응답을 생성하도록 한 후 생성된 가상 응답과 chunk 사이의 유사도를 통해 검색을 수행하는 방법이다. (비추다.)\\n\\xa0\\xa0\\xa0\\xa04) Context enrichment\\n\\xa0\\xa0\\xa0\\xa0\\xa0\\xa0\\xa0\\xa0Context enrichment는 검색된 chunk에 대해 추가적으로 context를 강화하는 방법이. Context enrichment에는 크게 두 가지 방식이 있다.\\n\\xa0\\xa0\\xa0\\xa0\\xa0\\xa0\\xa0\\xa04.1) Sentence Window Retrieval\\n\\xa0\\xa0\\xa0\\xa0\\xa0\\xa0\\xa0\\xa0\\xa0\\xa0\\xa0\\xa0chunk를 문장 단위로 만들어 embedding한 후 query와 문장 사이의 유사도를 검색한 후 해당 문장의 전 후 k개 문장으로 context window를 확장하여 LLM에 입력하는 방법.\\n\\xa0\\xa0\\xa0\\xa0\\xa0\\xa0\\xa0\\xa04.2) Auto-merging Retriever (Parent Document Retriever)\\n\\xa0\\xa0\\xa0\\xa0\\xa0\\xa0\\xa0\\xa0\\xa0\\xa0\\xa0\\xa0우선 작은 size의 chunk를 검색한 후 검색된 상위 k개의 chunk 중 n개 이상의 조각이 동일한 상위 node(larger chunk)와 연결된 경우 해당 node를 LLM이 참고할 context로 입력한다.\\n3.4 Optimizing Embedding Model\\nIllustrated by the author\\n\\xa0\\xa0\\xa0\\xa0retrieval 수행 시 가장 관련성 높은 chunk를 추출하는 것이 중요하다. 일반적으로 retrieval은 query와 indexing된 chunk들 간의 벡터 검색을 통해 산출된 의미 유사도를 기반으로 수행된다. 이에 따라 embedding model이 문장 의미 정보를 잘 표현하는 것이 중요하다. Embedding model을 강화하는 방법으로 아래 두 가지가 잘 알려져 있다.\\n\\xa0\\xa0\\xa0\\xa01) Fine-tuning embedding model\\n\\xa0\\xa0\\xa0\\xa0\\xa0\\xa0\\xa0\\xa0Embedding model을 domain-specific context에 맞게 fine-tuning하는 방법이다.\\n\\xa0\\xa0\\xa0\\xa02) Dynamic Embedding\\n\\xa0\\xa0\\xa0\\xa0\\xa0\\xa0\\xa0\\xa0각 단어에 하나의 벡터만 사용하는 static embedding(정적 임베딩)과 달리 model이 context에 맞게 vector를 embedding하는 방법으로, OpenAI의 embeddings-ada-02가 대표적인 동적 임베딩 모델이다.\\n3.5 Post-Retrieval\\nIllustrated by the author\\n\\xa0\\xa0\\xa0\\xa0Post-Retrieval 단계에서는 검색된 문서들을 정제하여 답변 생성 품질을 향상시키기 위한 처리들을 한다.\\n\\xa0\\xa0\\xa0\\xa01) Fusion retrieval or hybrid search\\n\\xa0\\xa0\\xa0\\xa0\\xa0\\xa0\\xa0\\xa0Fusion retrieval 혹은 hybrid search는 Query와 chunk에 대한 의미 유사도, 키워드 매칭을 모두 고려하기 위해 tf-idf 혹은 BM25와 같은 keyword-based old school search와 최근에 많이 사용되는 semantic/vectore search 를 결합하는 방법이다.\\n\\xa0\\xa0\\xa0\\xa0\\xa0\\xa0\\xa0\\xa0이 방법론에서 중요한 것은 두 검색 결과를 적절히 결합하는 것이다. 검색 결과 결합에는 일반적으로 Reciprocal Rank Fusion algorithm이 사용된다.\\n\\xa0\\xa0\\xa0\\xa02) Re-Ranking\\n\\xa0\\xa0\\xa0\\xa0\\xa0\\xa0\\xa0\\xa0검색 결과에 대해 유사도 점수 등을 기준으로 chunk를 정렬하여 query와 관련성 높은 문서를 강조하기 위한 처리이다. Re-Ranking model은 query와 context를 input으로 받아 유사도를 측정한다.\\n\\xa0\\xa0\\xa0\\xa03) Prompt compression\\n\\xa0\\xa0\\xa0\\xa0\\xa0\\xa0\\xa0\\xa0관련 없는 context는 제거하고 중요한 context는 강조하여 전체 prompt 길이를 줄인다. 이 과정을 통해 LLM을 중요한 정보만 입력 받아 정확한 답변을 생성할 가능성이 높아지고, LLM의 입력이 줄어들어 추론 속도가 감소할 수 있다.\\n\\xa0\\xa0\\xa0\\xa04) Filtering\\n\\xa0\\xa0\\xa0\\xa0\\xa0\\xa0\\xa0\\xa0키워드나 metadata를 기반으로 검색된 chunk를 filtering하는 단계로, 관련 없는 문서가 검색되었을 때 해당 문서를 제거하기 위한 과정이다.\\n4. Self-RAG\\n일반적인 RAG은 입력된 모든 query에 대해 vector DB에 저장된 전체 문서와 유사도를 구하여 관련 chunk를 찾아 답을 생성하는 방식으로 작동된다. Self-RAG의 경우, 아래 그림과 같이 익숙한 주제에 대해서는 LLM이 바로 답변하도록 하고, 그렇지 않은 주제에 대해서는 RAG을 수행하는 방식으로 작동된다.\\nPinecone(https://www.pinecone.io/learn/advanced-rag-techniques/)\\nreward 모델을 align하는 것처럼 reflection token을 예측하는 model을 학습시켜 익숙한 주제인지 아닌지 분류한다. 해당 모델의 데이터는 특정 도메인에 대해 fine-tuning된 모델이든 아니면 그냥 사전학습모델이든 frozen LLM 모델이 반환하는 답변과 질문을 openai gpt-4에 입력하여 답변이 질문과 관련있는지, 어느정도 관련이 있는지, 얼마나 supported한지, retreival이 필요해 보이는지 등의 label을 수집한다. 자세한 데이터 수집 방법은 [https://github.com/AkariAsai/self-rag/tree/main/data_creation/critic/gpt4_reward(]https://github.com/AkariAsai/self-rag/tree/main/data_creation/critic/gpt4_reward) 여기에서 확인 가능하다.\\n위 과정을 통해 수집된 데이터로 reflection token 예측 모델을 학습시켜 RAG에 사용한다.\\n5. Corrective RAG (CRAG)\\nCRAG은 일반적인 RAG과 동일하게 입력된 모든 query에 대해 vector DB에 저장된 전체 문서와 유사도를 구하여 관련 chunk를 찾는다. chunk를 찾은 이후 답을 생성하기 전, 검색된 정보가 올바른지, 아닌지 혹은 애매한지 분류하고 분류 유형에 따라 답 생성 방식을 달리한다. Correct, Incorrect, Ambiguout 분류 모델은 T5-large를 학습시킨 모델을 사용한다.\\nPinecone(https://www.pinecone.io/learn/advanced-rag-techniques/)\\n각 분류 결과에 따른 답 생성 방식은 다음과 같다:\\n1) Correct: 검색된 문서에 query가 요구하는 정보가 포함되어 있기 때문에 해당 문서에 대한 filtering 작업만 거치고 RAG을 수행한다. filtering은 문서를 보다 작은 단위로 자르고 다시 Retrieval evaluate model(T5-large based)로 분류 한 후 0.5보다 낮은 부분은 제거, 나머지는 사용하는 방식으로 수행된다.\\n2) Incorrect: 검색된 문서에 query가 요구하는 정보가 없기 때문에 Web 검ㅅ개을 통해 관련 문서를 가져온다.\\n3) Ambiguout: 검색된 문서에 query가 요구하는 정보가 충분하지 않은 경우로, “Incorrect”의 경우와 마찬가지로 추가 정보도 찾고 “Correct”에서 수행한 filtering 작업을 거친 후 RAG을 수행한다.\\nReference\\nRetrieval-Augmented Generation for Large Language Models: A Survey\\nhttps://medium.com/@vipra_singh/building-llm-applications-advanced-rag-part-10-ec0fe735aeb1#979b\\nhttps://pub.towardsai.net/advanced-rag-techniques-an-illustrated-overview-04d193d8fec6\\nhttps://ai.plainenglish.io/advanced-rag-part-01-problems-of-naive-rag-7e5f8ebb68d5\\nhttps://www.pinecone.io/learn/advanced-rag-techniques/\\nSELF-RAG: LEARNING TO RETRIEVE, GENERATE, AND CRITIQUE THROUGH SELF-REFLECTION\\nhttps://github.com/AkariAsai/self-rag/tree/main\\n×\\nSearch\\n'"
      ]
     },
     "execution_count": 97,
     "metadata": {},
     "output_type": "execute_result"
    }
   ],
   "source": [
    "text"
   ]
  },
  {
   "cell_type": "code",
   "execution_count": null,
   "id": "8b8c4af1-daad-4b9c-84b9-a7a369b074b0",
   "metadata": {},
   "outputs": [],
   "source": []
  }
 ],
 "metadata": {
  "kernelspec": {
   "display_name": "Python 3 (ipykernel)",
   "language": "python",
   "name": "python3"
  },
  "language_info": {
   "codemirror_mode": {
    "name": "ipython",
    "version": 3
   },
   "file_extension": ".py",
   "mimetype": "text/x-python",
   "name": "python",
   "nbconvert_exporter": "python",
   "pygments_lexer": "ipython3",
   "version": "3.10.12"
  }
 },
 "nbformat": 4,
 "nbformat_minor": 5
}

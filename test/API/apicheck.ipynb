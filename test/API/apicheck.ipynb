{
 "cells": [
  {
   "cell_type": "code",
   "execution_count": 7,
   "id": "0c08a6d6-6850-449b-83e1-8ad379e06a60",
   "metadata": {},
   "outputs": [],
   "source": [
    "import requests\n",
    "\n",
    "client=\"http://192.168.2.186:8088/chat\"\n",
    "headers = { 'Content-Type': 'application/json' }\n",
    "user_input=\"안녕\"\n",
    "inputs = {\"user_input\": user_input}\n",
    "response = requests.request(\"POST\", client , headers=headers, data=inputs)"
   ]
  },
  {
   "cell_type": "code",
   "execution_count": 8,
   "id": "3731b428-66b5-4909-92c0-0442137c85a9",
   "metadata": {},
   "outputs": [
    {
     "data": {
      "text/plain": [
       "<Response [422]>"
      ]
     },
     "execution_count": 8,
     "metadata": {},
     "output_type": "execute_result"
    }
   ],
   "source": [
    "response"
   ]
  },
  {
   "cell_type": "code",
   "execution_count": 9,
   "id": "e4affcf6-6bf6-4255-8b31-700b883c77dd",
   "metadata": {},
   "outputs": [
    {
     "name": "stdout",
     "output_type": "stream",
     "text": [
      "Request failed with status code 422\n"
     ]
    }
   ],
   "source": [
    "import requests\n",
    "\n",
    "# FastAPI 서버의 URL\n",
    "url = \"http://192.168.2.186:8088/chat\"  # 서버 주소와 포트를 변경해야 할 수도 있습니다.\n",
    "\n",
    "# 요청에 사용할 데이터\n",
    "data = {\n",
    "    \"user_input\": \"Your input message here\"\n",
    "}\n",
    "\n",
    "# POST 요청 보내기\n",
    "response = requests.post(url, json=data)\n",
    "\n",
    "# 응답 데이터 확인\n",
    "if response.status_code == 200:\n",
    "    result = response.json()\n",
    "    print(\"Output:\", result[\"output\"])\n",
    "    print(\"Source:\", result[\"source\"])\n",
    "else:\n",
    "    print(f\"Request failed with status code {response.status_code}\")\n"
   ]
  },
  {
   "cell_type": "code",
   "execution_count": null,
   "id": "139d133c-4c9b-483d-9a29-15795c1e35d4",
   "metadata": {},
   "outputs": [],
   "source": [
    "import requests\n",
    "\n",
    "url = \"http://192.168.2.186:8088/chat\"\n",
    "\n",
    "data = {\n",
    "    \"user_name\": \"earthquake\",\n",
    "    \"password\": \"pass123word123\"\n",
    "}\n",
    "\n",
    "resp = requests.post(url=url, data=data)"
   ]
  },
  {
   "cell_type": "code",
   "execution_count": null,
   "id": "022a99d3-0f40-44fe-ae81-64e0e99d056b",
   "metadata": {},
   "outputs": [],
   "source": []
  },
  {
   "cell_type": "code",
   "execution_count": 12,
   "id": "ae72a977-157f-4c9d-b1dc-f208bf89710e",
   "metadata": {},
   "outputs": [
    {
     "name": "stdout",
     "output_type": "stream",
     "text": [
      "kk\n"
     ]
    }
   ],
   "source": [
    "from pydantic import BaseModel as BM\n",
    "class UserInput(BM):\n",
    "    user_input: str\n",
    "def api(user_input: UserInput):\n",
    "    print(user_input)\n",
    "\n",
    "api(\"kk\")"
   ]
  },
  {
   "cell_type": "code",
   "execution_count": null,
   "id": "ffcc18c3-ce15-4d26-b2d0-f3fca01dce01",
   "metadata": {},
   "outputs": [],
   "source": []
  }
 ],
 "metadata": {
  "kernelspec": {
   "display_name": "Python 3 (ipykernel)",
   "language": "python",
   "name": "python3"
  },
  "language_info": {
   "codemirror_mode": {
    "name": "ipython",
    "version": 3
   },
   "file_extension": ".py",
   "mimetype": "text/x-python",
   "name": "python",
   "nbconvert_exporter": "python",
   "pygments_lexer": "ipython3",
   "version": "3.10.12"
  }
 },
 "nbformat": 4,
 "nbformat_minor": 5
}

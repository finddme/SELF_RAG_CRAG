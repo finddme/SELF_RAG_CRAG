{
 "cells": [
  {
   "cell_type": "markdown",
   "id": "3611f223-0a40-423f-b34d-446532df44e0",
   "metadata": {},
   "source": [
    "# openai embedding"
   ]
  },
  {
   "cell_type": "code",
   "execution_count": null,
   "id": "34aa08e2-3f47-4a56-971e-b8a42e2ec54e",
   "metadata": {},
   "outputs": [],
   "source": []
  },
  {
   "cell_type": "code",
   "execution_count": 4,
   "id": "24cda470-7f0a-45f5-b661-e2d65f73e2bd",
   "metadata": {},
   "outputs": [],
   "source": [
    "import openai, os\n",
    "from langchain_community.embeddings.openai import OpenAIEmbeddings"
   ]
  },
  {
   "cell_type": "code",
   "execution_count": 5,
   "id": "2a4e859f-5fc2-4a96-9bdf-0da7f98cd740",
   "metadata": {},
   "outputs": [
    {
     "name": "stderr",
     "output_type": "stream",
     "text": [
      "/usr/local/lib/python3.10/dist-packages/langchain_core/_api/deprecation.py:139: LangChainDeprecationWarning: The class `OpenAIEmbeddings` was deprecated in LangChain 0.0.9 and will be removed in 0.3.0. An updated version of the class exists in the langchain-openai package and should be used instead. To use it run `pip install -U langchain-openai` and import as `from langchain_openai import OpenAIEmbeddings`.\n",
      "  warn_deprecated(\n"
     ]
    }
   ],
   "source": [
    "Openai_API_KEY = \"\"\n",
    "os.environ[\"OPENAI_API_KEY\"] =  Openai_API_KEY\n",
    "openai.api_key =os.getenv(\"OPENAI_API_KEY\")\n",
    "embed_model = \"text-embedding-ada-002\"\n",
    "embeddings = OpenAIEmbeddings(model=embed_model)"
   ]
  },
  {
   "cell_type": "code",
   "execution_count": 6,
   "id": "a086a43d-a001-4948-9957-7b3550521626",
   "metadata": {},
   "outputs": [],
   "source": [
    "def get_embedding_openai(text, engine=\"text-embedding-ada-002\") : \n",
    "    res = openai.Embedding.create(input=text,engine=engine)['data'][0]['embedding']\n",
    "    # from openai import OpenAI\n",
    "    # embedding_client = OpenAI()\n",
    "    # res= embedding_client.embeddings.create(input = text, model=engine).data[0].embedding\n",
    "    return res"
   ]
  },
  {
   "cell_type": "code",
   "execution_count": 7,
   "id": "43c0ff7c-06f4-4403-93e4-b465f8104fe5",
   "metadata": {},
   "outputs": [],
   "source": [
    "go=get_embedding_openai(\"현재 시점 이후의 token들에 대해 masking 처리를 하여 Masked Multi-Head Self-Attention을 사용한다.\")"
   ]
  },
  {
   "cell_type": "code",
   "execution_count": null,
   "id": "e5af836d-1e07-44ac-b10b-9f190f418cd2",
   "metadata": {},
   "outputs": [],
   "source": []
  },
  {
   "cell_type": "markdown",
   "id": "d0ac78e2-539d-410c-a39c-741b4b8f4f57",
   "metadata": {},
   "source": [
    "# sentence tranformers"
   ]
  },
  {
   "cell_type": "code",
   "execution_count": 8,
   "id": "fb067167-acc5-47f1-88e4-ab9757007077",
   "metadata": {},
   "outputs": [
    {
     "name": "stderr",
     "output_type": "stream",
     "text": [
      "/usr/local/lib/python3.10/dist-packages/tqdm/auto.py:21: TqdmWarning: IProgress not found. Please update jupyter and ipywidgets. See https://ipywidgets.readthedocs.io/en/stable/user_install.html\n",
      "  from .autonotebook import tqdm as notebook_tqdm\n"
     ]
    }
   ],
   "source": [
    "from sentence_transformers import SentenceTransformer\n",
    "import numpy as np\n",
    "embedd_model = SentenceTransformer(\"sentence-transformers/all-MiniLM-L6-v2\")"
   ]
  },
  {
   "cell_type": "code",
   "execution_count": 9,
   "id": "cd5fca9a-e565-481c-b612-bfa9b41941eb",
   "metadata": {},
   "outputs": [],
   "source": [
    "def get_embedding_st(text) : \n",
    "    res = embedd_model.encode(text)\n",
    "    # res=res.tolist()\n",
    "    res = list(map(float, res))\n",
    "    return res"
   ]
  },
  {
   "cell_type": "code",
   "execution_count": 10,
   "id": "6c653ff4-5052-4c85-836e-6a58275db27c",
   "metadata": {},
   "outputs": [
    {
     "data": {
      "text/plain": [
       "float"
      ]
     },
     "execution_count": 10,
     "metadata": {},
     "output_type": "execute_result"
    }
   ],
   "source": [
    "ges=get_embedding_st(\"LLaMa3의 구조에 대해 알려줘\")\n",
    "type(ges[0])"
   ]
  },
  {
   "cell_type": "code",
   "execution_count": null,
   "id": "226d2e31-bccd-44a7-bfd1-bde504c898f1",
   "metadata": {},
   "outputs": [],
   "source": []
  }
 ],
 "metadata": {
  "kernelspec": {
   "display_name": "Python 3 (ipykernel)",
   "language": "python",
   "name": "python3"
  },
  "language_info": {
   "codemirror_mode": {
    "name": "ipython",
    "version": 3
   },
   "file_extension": ".py",
   "mimetype": "text/x-python",
   "name": "python",
   "nbconvert_exporter": "python",
   "pygments_lexer": "ipython3",
   "version": "3.10.12"
  }
 },
 "nbformat": 4,
 "nbformat_minor": 5
}
